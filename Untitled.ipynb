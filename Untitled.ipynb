{
 "cells": [
  {
   "cell_type": "code",
   "execution_count": 8,
   "metadata": {},
   "outputs": [
    {
     "name": "stdout",
     "output_type": "stream",
     "text": [
      "running sdist\n",
      "running egg_info\n",
      "writing fast_functions.egg-info/PKG-INFO\n",
      "writing dependency_links to fast_functions.egg-info/dependency_links.txt\n",
      "writing requirements to fast_functions.egg-info/requires.txt\n",
      "writing top-level names to fast_functions.egg-info/top_level.txt\n",
      "reading manifest file 'fast_functions.egg-info/SOURCES.txt'\n",
      "writing manifest file 'fast_functions.egg-info/SOURCES.txt'\n",
      "running check\n",
      "creating fast_functions-0.0.1\n",
      "creating fast_functions-0.0.1/fast_functions\n",
      "creating fast_functions-0.0.1/fast_functions.egg-info\n",
      "copying files to fast_functions-0.0.1...\n",
      "copying README.md -> fast_functions-0.0.1\n",
      "copying setup.py -> fast_functions-0.0.1\n",
      "copying ./fast_functions/haversine.c -> fast_functions-0.0.1/./fast_functions\n",
      "copying ./fast_functions/haversine_cuda.c -> fast_functions-0.0.1/./fast_functions\n",
      "copying fast_functions/__init__.py -> fast_functions-0.0.1/fast_functions\n",
      "copying fast_functions.egg-info/PKG-INFO -> fast_functions-0.0.1/fast_functions.egg-info\n",
      "copying fast_functions.egg-info/SOURCES.txt -> fast_functions-0.0.1/fast_functions.egg-info\n",
      "copying fast_functions.egg-info/dependency_links.txt -> fast_functions-0.0.1/fast_functions.egg-info\n",
      "copying fast_functions.egg-info/requires.txt -> fast_functions-0.0.1/fast_functions.egg-info\n",
      "copying fast_functions.egg-info/top_level.txt -> fast_functions-0.0.1/fast_functions.egg-info\n",
      "Writing fast_functions-0.0.1/setup.cfg\n",
      "Creating tar archive\n",
      "removing 'fast_functions-0.0.1' (and everything under it)\n",
      "Processing ./dist/fast_functions-0.0.1.tar.gz\n",
      "Requirement already satisfied: numpy in /Users/ryanculligan/opt/anaconda3/lib/python3.7/site-packages (from fast-functions==0.0.1) (1.18.1)\n",
      "Building wheels for collected packages: fast-functions\n",
      "  Building wheel for fast-functions (setup.py) ... \u001b[?25ldone\n",
      "\u001b[?25h  Created wheel for fast-functions: filename=fast_functions-0.0.1-cp37-none-any.whl size=1392 sha256=47282db3aa0b3e1f49083bb066b3286e8296049395306fc5108ae02b4d9da662\n",
      "  Stored in directory: /Users/ryanculligan/Library/Caches/pip/wheels/36/57/4d/5e7eedbb0703bba4a1208b16195a33ae70941ed5c63bb730cd\n",
      "Successfully built fast-functions\n",
      "Installing collected packages: fast-functions\n",
      "  Found existing installation: fast-functions 0.0.1\n",
      "    Uninstalling fast-functions-0.0.1:\n",
      "      Successfully uninstalled fast-functions-0.0.1\n",
      "Successfully installed fast-functions-0.0.1\n"
     ]
    }
   ],
   "source": [
    "!python setup.py sdist\n",
    "!pip install dist/fast_functions-0.0.1.tar.gz"
   ]
  },
  {
   "cell_type": "code",
   "execution_count": 12,
   "metadata": {},
   "outputs": [
    {
     "ename": "ModuleNotFoundError",
     "evalue": "No module named 'fast_functions.haversine'",
     "output_type": "error",
     "traceback": [
      "\u001b[0;31m---------------------------------------------------------------------------\u001b[0m",
      "\u001b[0;31mModuleNotFoundError\u001b[0m                       Traceback (most recent call last)",
      "\u001b[0;32m<ipython-input-12-847e9c899083>\u001b[0m in \u001b[0;36m<module>\u001b[0;34m\u001b[0m\n\u001b[1;32m      1\u001b[0m \u001b[0;32mimport\u001b[0m \u001b[0mnumpy\u001b[0m \u001b[0;32mas\u001b[0m \u001b[0mnp\u001b[0m\u001b[0;34m\u001b[0m\u001b[0;34m\u001b[0m\u001b[0m\n\u001b[0;32m----> 2\u001b[0;31m \u001b[0;32mfrom\u001b[0m \u001b[0mfast_functions\u001b[0m\u001b[0;34m.\u001b[0m\u001b[0mhaversine\u001b[0m \u001b[0;32mimport\u001b[0m \u001b[0mhaversine_array\u001b[0m\u001b[0;34m\u001b[0m\u001b[0;34m\u001b[0m\u001b[0m\n\u001b[0m\u001b[1;32m      3\u001b[0m \u001b[0;34m\u001b[0m\u001b[0m\n\u001b[1;32m      4\u001b[0m \u001b[0mavon_lat\u001b[0m\u001b[0;34m,\u001b[0m \u001b[0mavon_lng\u001b[0m \u001b[0;34m=\u001b[0m \u001b[0;36m45.6091\u001b[0m\u001b[0;34m,\u001b[0m \u001b[0;34m-\u001b[0m\u001b[0;36m94.4517\u001b[0m\u001b[0;34m\u001b[0m\u001b[0;34m\u001b[0m\u001b[0m\n\u001b[1;32m      5\u001b[0m \u001b[0mminneapolis_lat\u001b[0m\u001b[0;34m,\u001b[0m \u001b[0mminneapolis_lng\u001b[0m \u001b[0;34m=\u001b[0m \u001b[0;36m44.9778\u001b[0m\u001b[0;34m,\u001b[0m \u001b[0;34m-\u001b[0m\u001b[0;36m93.2650\u001b[0m\u001b[0;34m\u001b[0m\u001b[0;34m\u001b[0m\u001b[0m\n",
      "\u001b[0;31mModuleNotFoundError\u001b[0m: No module named 'fast_functions.haversine'"
     ]
    }
   ],
   "source": [
    "import numpy as np\n",
    "from fast_functions.haversine import haversine_array\n",
    "\n",
    "avon_lat, avon_lng = 45.6091, -94.4517\n",
    "minneapolis_lat, minneapolis_lng = 44.9778, -93.2650\n",
    "\n",
    "lat1 = np.array([avon_lat] * 10000)\n",
    "lng1 = np.array([avon_lng] * 10000)\n",
    "lat2 = np.array([minneapolis_lat] * 10000)\n",
    "lng2 = np.array([minneapolis_lng] * 10000)\n",
    "\n",
    "def haversine_np(lat1, lon1, lat2, lon2):\n",
    "    lon1, lat1, lon2, lat2 = map(np.radians, [lon1, lat1, lon2, lat2])\n",
    "    dlon = lon2 - lon1\n",
    "    dlat = lat2 - lat1\n",
    "    a = np.sin(dlat/2.0)**2 + np.cos(lat1) * np.cos(lat2) * np.sin(dlon/2.0)**2\n",
    "    c = 2 * np.arcsin(np.sqrt(a))\n",
    "    km = 6367 * c\n",
    "    return km\n",
    "\n",
    "import time\n",
    "start_time = time.time()\n",
    "for i in range(1000):\n",
    "    haversine_np(lat1, lng1, lat2, lng2)\n",
    "start_time = time.time()\n",
    "for i in range(1000):\n",
    "    haversine_array(lat1, lng1, lat2, lng2)\n",
    "print(start_time - end_time)"
   ]
  },
  {
   "cell_type": "code",
   "execution_count": 11,
   "metadata": {},
   "outputs": [
    {
     "name": "stdout",
     "output_type": "stream",
     "text": [
      "Object `fast_functions.haversine` not found.\n"
     ]
    }
   ],
   "source": []
  },
  {
   "cell_type": "code",
   "execution_count": null,
   "metadata": {},
   "outputs": [],
   "source": []
  }
 ],
 "metadata": {
  "kernelspec": {
   "display_name": "Python 3",
   "language": "python",
   "name": "python3"
  },
  "language_info": {
   "codemirror_mode": {
    "name": "ipython",
    "version": 3
   },
   "file_extension": ".py",
   "mimetype": "text/x-python",
   "name": "python",
   "nbconvert_exporter": "python",
   "pygments_lexer": "ipython3",
   "version": "3.7.4"
  }
 },
 "nbformat": 4,
 "nbformat_minor": 2
}
